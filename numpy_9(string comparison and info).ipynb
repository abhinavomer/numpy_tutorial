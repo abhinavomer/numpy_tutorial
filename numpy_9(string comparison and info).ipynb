{
 "cells": [
  {
   "cell_type": "code",
   "execution_count": 1,
   "id": "81530636-37e6-4039-927a-648f8b48fe78",
   "metadata": {},
   "outputs": [],
   "source": [
    "import numpy as np"
   ]
  },
  {
   "cell_type": "code",
   "execution_count": 2,
   "id": "754be6a2-8e52-48d2-9673-e5765dd43993",
   "metadata": {},
   "outputs": [],
   "source": [
    "#STRING OPERATION COMPARISON ANS INFORMATION"
   ]
  },
  {
   "cell_type": "code",
   "execution_count": 7,
   "id": "14393513-964e-43e9-adc7-3f855c7dce67",
   "metadata": {},
   "outputs": [
    {
     "data": {
      "text/plain": [
       "'Abhinav Omer is a Bad Boy'"
      ]
     },
     "execution_count": 7,
     "metadata": {},
     "output_type": "execute_result"
    }
   ],
   "source": [
    "name=\"Abhinav Omer is a Bad Boy\"\n",
    "name"
   ]
  },
  {
   "cell_type": "code",
   "execution_count": 6,
   "id": "2e3275d2-3be3-4066-a724-d6ba96075bba",
   "metadata": {},
   "outputs": [
    {
     "data": {
      "text/plain": [
       "'learning python numpy for ML'"
      ]
     },
     "execution_count": 6,
     "metadata": {},
     "output_type": "execute_result"
    }
   ],
   "source": [
    "name1=\"learning python numpy for ML\"\n",
    "name1"
   ]
  },
  {
   "cell_type": "code",
   "execution_count": 8,
   "id": "a44cd139-ece0-4c3a-bd21-d4f780ffc6d2",
   "metadata": {},
   "outputs": [
    {
     "data": {
      "text/plain": [
       "array('Abhinav Omer is a Bad Boylearning python numpy for ML',\n",
       "      dtype='<U53')"
      ]
     },
     "execution_count": 8,
     "metadata": {},
     "output_type": "execute_result"
    }
   ],
   "source": [
    "np.char.add(name,name1)"
   ]
  },
  {
   "cell_type": "code",
   "execution_count": 9,
   "id": "218dee4e-2b9f-48b5-8415-0e6241bd0a75",
   "metadata": {},
   "outputs": [
    {
     "data": {
      "text/plain": [
       "array('abhinav omer is a bad boy', dtype='<U25')"
      ]
     },
     "execution_count": 9,
     "metadata": {},
     "output_type": "execute_result"
    }
   ],
   "source": [
    "np.char.lower(name)"
   ]
  },
  {
   "cell_type": "code",
   "execution_count": 10,
   "id": "d39348f0-a4ea-4581-b2d9-823bba46feed",
   "metadata": {},
   "outputs": [
    {
     "data": {
      "text/plain": [
       "array('LEARNING PYTHON NUMPY FOR ML', dtype='<U28')"
      ]
     },
     "execution_count": 10,
     "metadata": {},
     "output_type": "execute_result"
    }
   ],
   "source": [
    "np.char.upper(name1)"
   ]
  },
  {
   "cell_type": "code",
   "execution_count": 11,
   "id": "ece8c1c2-ddf0-4e73-a404-b7df9ce2cfd6",
   "metadata": {},
   "outputs": [
    {
     "data": {
      "text/plain": [
       "array('                           Abhinav Omer is a Bad Boy                            ',\n",
       "      dtype='<U80')"
      ]
     },
     "execution_count": 11,
     "metadata": {},
     "output_type": "execute_result"
    }
   ],
   "source": [
    "np.char.center(name,80)"
   ]
  },
  {
   "cell_type": "code",
   "execution_count": 12,
   "id": "4418bdf0-65c2-474a-b2d8-f32eccb5dca4",
   "metadata": {},
   "outputs": [
    {
     "data": {
      "text/plain": [
       "array('$$$$$$$$$$$$$$$$$$$$$$$$$$$$$$$$$$$$$Abhinav Omer is a Bad Boy$$$$$$$$$$$$$$$$$$$$$$$$$$$$$$$$$$$$$$',\n",
       "      dtype='<U100')"
      ]
     },
     "execution_count": 12,
     "metadata": {},
     "output_type": "execute_result"
    }
   ],
   "source": [
    "np.char.center(name,100,fillchar=\"$\")"
   ]
  },
  {
   "cell_type": "code",
   "execution_count": 13,
   "id": "16bdcc5f-ca23-4539-b61a-8b8b49ce3127",
   "metadata": {},
   "outputs": [
    {
     "data": {
      "text/plain": [
       "array(list(['learning', 'python', 'numpy', 'for', 'ML']), dtype=object)"
      ]
     },
     "execution_count": 13,
     "metadata": {},
     "output_type": "execute_result"
    }
   ],
   "source": [
    "np.char.split(name1)"
   ]
  },
  {
   "cell_type": "code",
   "execution_count": 14,
   "id": "b1100def-959e-44c0-b69e-229665346ae0",
   "metadata": {},
   "outputs": [
    {
     "data": {
      "text/plain": [
       "array(list(['hello', 'india', 'love', 'you']), dtype=object)"
      ]
     },
     "execution_count": 14,
     "metadata": {},
     "output_type": "execute_result"
    }
   ],
   "source": [
    "np.char.splitlines(\"hello\\nindia\\nlove\\nyou\")"
   ]
  },
  {
   "cell_type": "code",
   "execution_count": 15,
   "id": "411182ac-1f12-4ed4-af92-98fa39d2bd09",
   "metadata": {},
   "outputs": [],
   "source": [
    "str1=\"dmy\"\n",
    "str2=\"dmy\""
   ]
  },
  {
   "cell_type": "code",
   "execution_count": 17,
   "id": "33659741-4c9c-48ed-bc4a-b0762606f1ec",
   "metadata": {},
   "outputs": [
    {
     "data": {
      "text/plain": [
       "array(['d:m:y', 'd/m/y'], dtype='<U5')"
      ]
     },
     "execution_count": 17,
     "metadata": {},
     "output_type": "execute_result"
    }
   ],
   "source": [
    "np.char.join([\":\",\"/\"],[str1,str2])"
   ]
  },
  {
   "cell_type": "code",
   "execution_count": 19,
   "id": "f0d8da51-3c7e-4fcc-8677-72eed54315e4",
   "metadata": {},
   "outputs": [
    {
     "data": {
      "text/plain": [
       "'learning python numpy for ML'"
      ]
     },
     "execution_count": 19,
     "metadata": {},
     "output_type": "execute_result"
    }
   ],
   "source": [
    "name1"
   ]
  },
  {
   "cell_type": "code",
   "execution_count": 20,
   "id": "494e0ce3-fd88-4e2d-8123-8951defd2273",
   "metadata": {},
   "outputs": [
    {
     "data": {
      "text/plain": [
       "array('learning python numpy for Machine Learning', dtype='<U42')"
      ]
     },
     "execution_count": 20,
     "metadata": {},
     "output_type": "execute_result"
    }
   ],
   "source": [
    "np.char.replace(name1,\"ML\",\"Machine Learning\")"
   ]
  },
  {
   "cell_type": "code",
   "execution_count": 21,
   "id": "eb519f2e-c1bc-4f75-9f97-95c84b03916a",
   "metadata": {},
   "outputs": [],
   "source": [
    "#comparison methods"
   ]
  },
  {
   "cell_type": "code",
   "execution_count": 24,
   "id": "830f0e92-a69b-42a3-902d-223071ca1aae",
   "metadata": {},
   "outputs": [
    {
     "data": {
      "text/plain": [
       "array(False)"
      ]
     },
     "execution_count": 24,
     "metadata": {},
     "output_type": "execute_result"
    }
   ],
   "source": [
    "np.char.equal(name,str2)"
   ]
  },
  {
   "cell_type": "code",
   "execution_count": 25,
   "id": "4bdbaf09-e0d9-4f83-af49-123a81d6bf87",
   "metadata": {},
   "outputs": [
    {
     "data": {
      "text/plain": [
       "array(True)"
      ]
     },
     "execution_count": 25,
     "metadata": {},
     "output_type": "execute_result"
    }
   ],
   "source": [
    "np.char.equal(str1,str2)\n"
   ]
  },
  {
   "cell_type": "code",
   "execution_count": 26,
   "id": "79e363c3-8d52-4d41-9485-f3d6b5288dfa",
   "metadata": {},
   "outputs": [
    {
     "data": {
      "text/plain": [
       "array(True)"
      ]
     },
     "execution_count": 26,
     "metadata": {},
     "output_type": "execute_result"
    }
   ],
   "source": [
    "np.char.equal(\"dmy\",str2)"
   ]
  },
  {
   "cell_type": "code",
   "execution_count": 27,
   "id": "32310aab-9cbc-4612-9d92-19b8cd1ed075",
   "metadata": {},
   "outputs": [
    {
     "data": {
      "text/plain": [
       "'Abhinav Omer is a Bad Boy'"
      ]
     },
     "execution_count": 27,
     "metadata": {},
     "output_type": "execute_result"
    }
   ],
   "source": [
    "name"
   ]
  },
  {
   "cell_type": "code",
   "execution_count": 29,
   "id": "227ddaeb-26af-4dca-a486-b6d2e7338a50",
   "metadata": {},
   "outputs": [
    {
     "data": {
      "text/plain": [
       "array(3)"
      ]
     },
     "execution_count": 29,
     "metadata": {},
     "output_type": "execute_result"
    }
   ],
   "source": [
    "np.char.count(name,\"a\")"
   ]
  },
  {
   "cell_type": "code",
   "execution_count": 31,
   "id": "fe37ea93-73c7-44f0-a7c7-ad3209e5aee0",
   "metadata": {},
   "outputs": [
    {
     "data": {
      "text/plain": [
       "array(8)"
      ]
     },
     "execution_count": 31,
     "metadata": {},
     "output_type": "execute_result"
    }
   ],
   "source": [
    "np.char.find(name,\"Omer\")"
   ]
  },
  {
   "cell_type": "code",
   "execution_count": null,
   "id": "1757b169-66ab-482b-a7ad-fbb98e87970f",
   "metadata": {},
   "outputs": [],
   "source": []
  }
 ],
 "metadata": {
  "kernelspec": {
   "display_name": "Python 3 (ipykernel)",
   "language": "python",
   "name": "python3"
  },
  "language_info": {
   "codemirror_mode": {
    "name": "ipython",
    "version": 3
   },
   "file_extension": ".py",
   "mimetype": "text/x-python",
   "name": "python",
   "nbconvert_exporter": "python",
   "pygments_lexer": "ipython3",
   "version": "3.10.7"
  }
 },
 "nbformat": 4,
 "nbformat_minor": 5
}
