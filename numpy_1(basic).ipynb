{
 "cells": [
  {
   "cell_type": "code",
   "execution_count": 3,
   "id": "288834c1-982f-4c6e-b004-626865f71e85",
   "metadata": {},
   "outputs": [],
   "source": [
    "import numpy as np"
   ]
  },
  {
   "cell_type": "code",
   "execution_count": 4,
   "id": "f141c5ee-132b-4ce8-9d40-baecd21a72c5",
   "metadata": {},
   "outputs": [
    {
     "name": "stdout",
     "output_type": "stream",
     "text": [
      "[1 2 3 4]\n"
     ]
    }
   ],
   "source": [
    "ar=np.array([1,2,3,4])\n",
    "print(ar)"
   ]
  },
  {
   "cell_type": "code",
   "execution_count": 5,
   "id": "601ff81a-fbd2-4063-a8a4-c539ddc9e9d8",
   "metadata": {},
   "outputs": [
    {
     "data": {
      "text/plain": [
       "numpy.ndarray"
      ]
     },
     "execution_count": 5,
     "metadata": {},
     "output_type": "execute_result"
    }
   ],
   "source": [
    "type(ar)"
   ]
  },
  {
   "cell_type": "code",
   "execution_count": 6,
   "id": "72eb28de-f7b8-422e-9295-0aefd451376b",
   "metadata": {},
   "outputs": [
    {
     "data": {
      "text/plain": [
       "1"
      ]
     },
     "execution_count": 6,
     "metadata": {},
     "output_type": "execute_result"
    }
   ],
   "source": [
    "ar.ndim"
   ]
  },
  {
   "cell_type": "code",
   "execution_count": 8,
   "id": "3a1a039c-4573-4dfa-8b29-66d1171aa5ca",
   "metadata": {},
   "outputs": [
    {
     "name": "stdout",
     "output_type": "stream",
     "text": [
      "[[1 2 3 4]\n",
      " [5 6 7 8]]\n"
     ]
    }
   ],
   "source": [
    " ar2=np.array([[1,2,3,4],[5,6,7,8]])\n",
    "print(ar2)"
   ]
  },
  {
   "cell_type": "code",
   "execution_count": 10,
   "id": "2c365ca9-b288-4aff-bea7-b5901290e155",
   "metadata": {
    "scrolled": true
   },
   "outputs": [
    {
     "data": {
      "text/plain": [
       "2"
      ]
     },
     "execution_count": 10,
     "metadata": {},
     "output_type": "execute_result"
    }
   ],
   "source": [
    "ar2.ndim"
   ]
  },
  {
   "cell_type": "code",
   "execution_count": 11,
   "id": "4591b550-325a-42fd-acc7-54150ff248de",
   "metadata": {},
   "outputs": [
    {
     "data": {
      "text/plain": [
       "8"
      ]
     },
     "execution_count": 11,
     "metadata": {},
     "output_type": "execute_result"
    }
   ],
   "source": [
    "ar2.size"
   ]
  },
  {
   "cell_type": "code",
   "execution_count": 12,
   "id": "3b455327-da4b-4ef3-ba5c-79ffb6178d32",
   "metadata": {},
   "outputs": [
    {
     "data": {
      "text/plain": [
       "(2, 4)"
      ]
     },
     "execution_count": 12,
     "metadata": {},
     "output_type": "execute_result"
    }
   ],
   "source": [
    "ar2.shape"
   ]
  },
  {
   "cell_type": "code",
   "execution_count": 13,
   "id": "396060f8-203b-46e1-bf4c-f8f1b192bd77",
   "metadata": {},
   "outputs": [
    {
     "data": {
      "text/plain": [
       "dtype('int32')"
      ]
     },
     "execution_count": 13,
     "metadata": {},
     "output_type": "execute_result"
    }
   ],
   "source": [
    "ar2.dtype"
   ]
  },
  {
   "cell_type": "code",
   "execution_count": null,
   "id": "7e83c1c9-6a12-45cf-a40d-8b1119835e52",
   "metadata": {},
   "outputs": [],
   "source": [
    " "
   ]
  }
 ],
 "metadata": {
  "kernelspec": {
   "display_name": "Python 3 (ipykernel)",
   "language": "python",
   "name": "python3"
  },
  "language_info": {
   "codemirror_mode": {
    "name": "ipython",
    "version": 3
   },
   "file_extension": ".py",
   "mimetype": "text/x-python",
   "name": "python",
   "nbconvert_exporter": "python",
   "pygments_lexer": "ipython3",
   "version": "3.10.7"
  }
 },
 "nbformat": 4,
 "nbformat_minor": 5
}
