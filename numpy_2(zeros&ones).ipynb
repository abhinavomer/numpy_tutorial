{
 "cells": [
  {
   "cell_type": "code",
   "execution_count": 1,
   "id": "aa7a89e6-f4fa-4ac7-8bb3-e0238c44a4fb",
   "metadata": {},
   "outputs": [],
   "source": [
    "import numpy as np"
   ]
  },
  {
   "cell_type": "code",
   "execution_count": 2,
   "id": "429a5dee-ff59-4f55-8d62-54bcb7322e13",
   "metadata": {},
   "outputs": [
    {
     "data": {
      "text/plain": [
       "array([1., 1., 1., 1., 1.])"
      ]
     },
     "execution_count": 2,
     "metadata": {},
     "output_type": "execute_result"
    }
   ],
   "source": [
    "np.ones(5)"
   ]
  },
  {
   "cell_type": "code",
   "execution_count": 4,
   "id": "57635416-a6f9-4d36-9adf-e5b6dfd6eeb6",
   "metadata": {},
   "outputs": [
    {
     "name": "stdout",
     "output_type": "stream",
     "text": [
      "[[1. 1. 1. 1.]\n",
      " [1. 1. 1. 1.]\n",
      " [1. 1. 1. 1.]]\n"
     ]
    }
   ],
   "source": [
    "mx1=np.ones((3,4))\n",
    "print(mx1)"
   ]
  },
  {
   "cell_type": "code",
   "execution_count": 5,
   "id": "0c0777ff-7cfa-4905-b4ac-8b29aa9fd0ec",
   "metadata": {},
   "outputs": [
    {
     "name": "stdout",
     "output_type": "stream",
     "text": [
      "[[1 1 1 1]\n",
      " [1 1 1 1]\n",
      " [1 1 1 1]]\n"
     ]
    }
   ],
   "source": [
    "mx2=np.ones((3,4),dtype=int)\n",
    "print(mx2)"
   ]
  },
  {
   "cell_type": "code",
   "execution_count": 6,
   "id": "84a64913-054d-4f57-8229-7a8d446761c5",
   "metadata": {},
   "outputs": [
    {
     "name": "stdout",
     "output_type": "stream",
     "text": [
      "[[0. 0. 0. 0. 0. 0. 0. 0.]\n",
      " [0. 0. 0. 0. 0. 0. 0. 0.]\n",
      " [0. 0. 0. 0. 0. 0. 0. 0.]\n",
      " [0. 0. 0. 0. 0. 0. 0. 0.]\n",
      " [0. 0. 0. 0. 0. 0. 0. 0.]]\n"
     ]
    }
   ],
   "source": [
    "mx0=np.zeros((5,8))\n",
    "print(mx0)"
   ]
  },
  {
   "cell_type": "code",
   "execution_count": 7,
   "id": "fd61f844-6d2e-4d0d-a41c-c9da7dbba0d1",
   "metadata": {},
   "outputs": [
    {
     "name": "stdout",
     "output_type": "stream",
     "text": [
      "[[False False False False False False False False]\n",
      " [False False False False False False False False]\n",
      " [False False False False False False False False]\n",
      " [False False False False False False False False]\n",
      " [False False False False False False False False]]\n"
     ]
    }
   ],
   "source": [
    "mx0=np.zeros((5,8),dtype=bool)\n",
    "print(mx0)"
   ]
  },
  {
   "cell_type": "code",
   "execution_count": 9,
   "id": "463a8af6-e5e7-446f-abc2-a6cb4bb18eed",
   "metadata": {},
   "outputs": [
    {
     "name": "stdout",
     "output_type": "stream",
     "text": [
      "[['' '' '' '' '' '' '' '']\n",
      " ['' '' '' '' '' '' '' '']\n",
      " ['' '' '' '' '' '' '' '']\n",
      " ['' '' '' '' '' '' '' '']\n",
      " ['' '' '' '' '' '' '' '']]\n"
     ]
    }
   ],
   "source": [
    "mx0=np.zeros((5,8),dtype=str)\n",
    "print(mx0)"
   ]
  },
  {
   "cell_type": "code",
   "execution_count": 10,
   "id": "fb940cf3-2c87-4d90-b1a9-dbc16feeae02",
   "metadata": {},
   "outputs": [
    {
     "name": "stdout",
     "output_type": "stream",
     "text": [
      "[[ True  True  True  True  True  True  True  True]\n",
      " [ True  True  True  True  True  True  True  True]\n",
      " [ True  True  True  True  True  True  True  True]\n",
      " [ True  True  True  True  True  True  True  True]\n",
      " [ True  True  True  True  True  True  True  True]]\n"
     ]
    }
   ],
   "source": [
    "mx0=np.ones((5,8),dtype=bool)\n",
    "print(mx0)"
   ]
  },
  {
   "cell_type": "code",
   "execution_count": 13,
   "id": "2b636f6c-63c5-4c58-bbe2-9cd8a8d32978",
   "metadata": {},
   "outputs": [
    {
     "name": "stdout",
     "output_type": "stream",
     "text": [
      "[[1. 1. 1.]\n",
      " [1. 1. 1.]\n",
      " [1. 1. 1.]\n",
      " [1. 1. 1.]]\n"
     ]
    }
   ],
   "source": [
    "mpemty=np.empty((4,3))\n",
    "print(mpemty)"
   ]
  },
  {
   "cell_type": "code",
   "execution_count": null,
   "id": "9d6d1d19-846c-4688-a5bb-6b573fe60d20",
   "metadata": {},
   "outputs": [],
   "source": []
  }
 ],
 "metadata": {
  "kernelspec": {
   "display_name": "Python 3 (ipykernel)",
   "language": "python",
   "name": "python3"
  },
  "language_info": {
   "codemirror_mode": {
    "name": "ipython",
    "version": 3
   },
   "file_extension": ".py",
   "mimetype": "text/x-python",
   "name": "python",
   "nbconvert_exporter": "python",
   "pygments_lexer": "ipython3",
   "version": "3.10.7"
  }
 },
 "nbformat": 4,
 "nbformat_minor": 5
}
