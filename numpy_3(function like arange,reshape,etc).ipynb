{
 "cells": [
  {
   "cell_type": "code",
   "execution_count": 5,
   "id": "e0b5691d-6ef3-41dc-b6a2-7c007da036de",
   "metadata": {},
   "outputs": [],
   "source": [
    "import numpy as np"
   ]
  },
  {
   "cell_type": "code",
   "execution_count": 3,
   "id": "e91e7d2d-0541-4545-9724-21c51560f451",
   "metadata": {},
   "outputs": [],
   "source": [
    "#numpy_heading\n"
   ]
  },
  {
   "cell_type": "code",
   "execution_count": 16,
   "id": "57092662-6c5d-4429-99b5-c0f87f0c90c3",
   "metadata": {},
   "outputs": [
    {
     "name": "stdout",
     "output_type": "stream",
     "text": [
      "[ 1  2  3  4  5  6  7  8  9 10 11 12]\n"
     ]
    }
   ],
   "source": [
    "#arrange()\n",
    "\n",
    "#np.arrange(start,ends,steps)\n",
    "import numpy as np\n",
    "ar1=np.arange(1,13)\n",
    "print(ar1)"
   ]
  },
  {
   "cell_type": "code",
   "execution_count": 12,
   "id": "ce03967f-0363-4110-9414-fe725e235fce",
   "metadata": {},
   "outputs": [
    {
     "data": {
      "text/plain": [
       "array([1.        , 2.33333333, 3.66666667, 5.        ])"
      ]
     },
     "execution_count": 12,
     "metadata": {},
     "output_type": "execute_result"
    }
   ],
   "source": [
    "#linspace()\n",
    "\n",
    "np.linspace(1,5,4)"
   ]
  },
  {
   "cell_type": "code",
   "execution_count": 17,
   "id": "c101d8da-5eb8-40ab-8e5d-6cf8c970f142",
   "metadata": {},
   "outputs": [
    {
     "name": "stdout",
     "output_type": "stream",
     "text": [
      "[[ 1  2  3  4  5  6]\n",
      " [ 7  8  9 10 11 12]]\n"
     ]
    }
   ],
   "source": [
    "#reshape\n",
    "\n",
    "ar2=ar1.reshape(2,6)\n",
    "print(ar2)"
   ]
  },
  {
   "cell_type": "code",
   "execution_count": 19,
   "id": "ffbf0a2c-41a8-42ad-bfad-90da4c922344",
   "metadata": {},
   "outputs": [
    {
     "name": "stdout",
     "output_type": "stream",
     "text": [
      "[[ 1  2  3  4]\n",
      " [ 5  6  7  8]\n",
      " [ 9 10 11 12]]\n"
     ]
    }
   ],
   "source": [
    "ar22=ar1.reshape(3,4)\n",
    "print(ar22)\n"
   ]
  },
  {
   "cell_type": "code",
   "execution_count": 20,
   "id": "c1661029-41f4-4b04-af03-5ee82d947f71",
   "metadata": {},
   "outputs": [
    {
     "name": "stdout",
     "output_type": "stream",
     "text": [
      "[[[ 1  2]\n",
      "  [ 3  4]\n",
      "  [ 5  6]]\n",
      "\n",
      " [[ 7  8]\n",
      "  [ 9 10]\n",
      "  [11 12]]]\n"
     ]
    }
   ],
   "source": [
    "ar23=ar1.reshape(2,3,2)\n",
    "print(ar23)"
   ]
  },
  {
   "cell_type": "code",
   "execution_count": 21,
   "id": "29ff7a06-bcdd-4b6b-9e7e-de602333bb30",
   "metadata": {},
   "outputs": [
    {
     "data": {
      "text/plain": [
       "array([[ 1,  2,  3,  4,  5,  6],\n",
       "       [ 7,  8,  9, 10, 11, 12]])"
      ]
     },
     "execution_count": 21,
     "metadata": {},
     "output_type": "execute_result"
    }
   ],
   "source": [
    "np.arange(1,13).reshape(2,6)"
   ]
  },
  {
   "cell_type": "code",
   "execution_count": 22,
   "id": "ed2a8f5b-16b8-4ff7-ac62-3059bcaf7402",
   "metadata": {},
   "outputs": [
    {
     "data": {
      "text/plain": [
       "array([ 1,  2,  3,  4,  5,  6,  7,  8,  9, 10, 11, 12])"
      ]
     },
     "execution_count": 22,
     "metadata": {},
     "output_type": "execute_result"
    }
   ],
   "source": [
    "#ravel\n",
    "\n",
    "ar2.ravel()"
   ]
  },
  {
   "cell_type": "code",
   "execution_count": 23,
   "id": "cf416cd8-02fa-417e-8c25-681613807cf9",
   "metadata": {},
   "outputs": [
    {
     "data": {
      "text/plain": [
       "array([ 1,  2,  3,  4,  5,  6,  7,  8,  9, 10, 11, 12])"
      ]
     },
     "execution_count": 23,
     "metadata": {},
     "output_type": "execute_result"
    }
   ],
   "source": [
    "#flatten\n",
    "\n",
    "ar2.flatten()"
   ]
  },
  {
   "cell_type": "code",
   "execution_count": 25,
   "id": "23421961-2d0d-4c72-8fd9-fabccda99478",
   "metadata": {},
   "outputs": [
    {
     "data": {
      "text/plain": [
       "array([[ 1,  7],\n",
       "       [ 2,  8],\n",
       "       [ 3,  9],\n",
       "       [ 4, 10],\n",
       "       [ 5, 11],\n",
       "       [ 6, 12]])"
      ]
     },
     "execution_count": 25,
     "metadata": {},
     "output_type": "execute_result"
    }
   ],
   "source": [
    "#transpose\n",
    "\n",
    "ar2.transpose()"
   ]
  },
  {
   "cell_type": "code",
   "execution_count": 26,
   "id": "4ee2be6e-c66e-4e2e-908c-2907471ee7e3",
   "metadata": {},
   "outputs": [
    {
     "data": {
      "text/plain": [
       "array([[ 1,  7],\n",
       "       [ 2,  8],\n",
       "       [ 3,  9],\n",
       "       [ 4, 10],\n",
       "       [ 5, 11],\n",
       "       [ 6, 12]])"
      ]
     },
     "execution_count": 26,
     "metadata": {},
     "output_type": "execute_result"
    }
   ],
   "source": [
    "ar2.T"
   ]
  },
  {
   "cell_type": "code",
   "execution_count": null,
   "id": "dd4fa129-faf7-457b-8d3f-c8749d629ef1",
   "metadata": {},
   "outputs": [],
   "source": []
  }
 ],
 "metadata": {
  "kernelspec": {
   "display_name": "Python 3 (ipykernel)",
   "language": "python",
   "name": "python3"
  },
  "language_info": {
   "codemirror_mode": {
    "name": "ipython",
    "version": 3
   },
   "file_extension": ".py",
   "mimetype": "text/x-python",
   "name": "python",
   "nbconvert_exporter": "python",
   "pygments_lexer": "ipython3",
   "version": "3.10.7"
  }
 },
 "nbformat": 4,
 "nbformat_minor": 5
}
